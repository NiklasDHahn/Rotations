{
 "cells": [
  {
   "cell_type": "code",
   "execution_count": null,
   "metadata": {},
   "outputs": [],
   "source": [
    "import datetime\n",
    "import pandas as pd\n",
    "import ipywidgets as widgets\n",
    "import plotly.graph_objects as go\n",
    "from IPython.display import display\n",
    "from cartesian.rotations import Rotations\n",
    "import numpy as np"
   ]
  },
  {
   "cell_type": "code",
   "execution_count": null,
   "metadata": {},
   "outputs": [],
   "source": [
    "#Define rotations object\n",
    "tr = Rotations()\n",
    "\n",
    "# Define widgets\n",
    "output = widgets.Output() # Capturing and displaying the output\n",
    "\n",
    "angle = widgets.BoundedIntText(min=-360, max=360, description=\"Rotation Angle (°):\") # Slider for choosing the rotation angle\n",
    "x_input = widgets.BoundedFloatText(min=-100000, max=100000, description=\"Value for x coordinate:\") # Floating point input field for x coordinate\n",
    "y_input = widgets.BoundedFloatText(min=-100000, max=100000, description=\"Value for y coordinate:\") # Floating point input field for y coordinate"
   ]
  },
  {
   "cell_type": "code",
   "execution_count": null,
   "metadata": {},
   "outputs": [],
   "source": [
    "def temp_plot(rot, x, y):\n",
    "    output.clear_output()\n",
    "    \n",
    "    # Define array for rotation\n",
    "    coords = np.array([x, y])\n",
    "    rotated = tr.uniform_rotation_2d(coords, rot)\n",
    "    \n",
    "    # Define layout\n",
    "    layout = go.Layout(\n",
    "        title='Coordinate shift based on axes rotation',\n",
    "        xaxis=dict(title='X-Axis'),\n",
    "        yaxis=dict(title='Y-Axis')\n",
    "    )\n",
    "    \n",
    "    fig = go.Figure(layout=layout)\n",
    "    \n",
    "    # Add scatter trace\n",
    "    fig.add_trace(\n",
    "        go.Scatter(mode='markers', \n",
    "                   x=[rotated[0]], \n",
    "                   y=[rotated[1]], \n",
    "                   marker=dict(color='red', size=12, symbol='x', line=dict(color='black', width=1)),\n",
    "                   showlegend=False)\n",
    "    )\n",
    "    \n",
    "    with output:\n",
    "        display(fig.show())"
   ]
  },
  {
   "cell_type": "code",
   "execution_count": null,
   "metadata": {},
   "outputs": [],
   "source": [
    "# Define event handler\n",
    "def on_value_change(_):\n",
    "    temp_plot(angle.value, x_input.value, y_input.value)"
   ]
  },
  {
   "cell_type": "code",
   "execution_count": null,
   "metadata": {},
   "outputs": [],
   "source": [
    "# Binding event handler with widegts\n",
    "angle.observe(on_value_change)\n",
    "x_input.observe(on_value_change)\n",
    "y_input.observe(on_value_change)"
   ]
  },
  {
   "cell_type": "code",
   "execution_count": null,
   "metadata": {},
   "outputs": [],
   "source": [
    "# Display setting widgets\n",
    "display(angle)\n",
    "display(x_input)\n",
    "display(y_input)"
   ]
  },
  {
   "cell_type": "code",
   "execution_count": null,
   "metadata": {},
   "outputs": [],
   "source": [
    "# Display output widget\n",
    "display(output)"
   ]
  }
 ],
 "metadata": {
  "kernelspec": {
   "display_name": "Python 3.9.15 ('rotations')",
   "language": "python",
   "name": "python3"
  },
  "language_info": {
   "codemirror_mode": {
    "name": "ipython",
    "version": 3
   },
   "file_extension": ".py",
   "mimetype": "text/x-python",
   "name": "python",
   "nbconvert_exporter": "python",
   "pygments_lexer": "ipython3",
   "version": "3.9.15"
  },
  "orig_nbformat": 4,
  "vscode": {
   "interpreter": {
    "hash": "1abefd4da3d4965b4ff5592e823fe36ec87a750830e1f53b2fbd53964046afc7"
   }
  }
 },
 "nbformat": 4,
 "nbformat_minor": 2
}
