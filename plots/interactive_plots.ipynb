{
 "cells": [
  {
   "cell_type": "code",
   "execution_count": null,
   "metadata": {},
   "outputs": [],
   "source": [
    "import datetime\n",
    "import pandas as pd\n",
    "import ipywidgets as widgets\n",
    "import plotly.graph_objects as go\n",
    "from IPython.display import display, HTML"
   ]
  },
  {
   "cell_type": "code",
   "execution_count": null,
   "metadata": {},
   "outputs": [],
   "source": [
    "file_path = r\"C:\\Users\\Niklas\\OneDrive\\Documents\\Niklas\\interactive_plot_data\\widget_data.csv\"\n",
    "df = pd.read_csv(file_path)\n",
    "df['date'] = pd.to_datetime(df['date'], format='%d/%m/%Y %H:%M')"
   ]
  },
  {
   "cell_type": "code",
   "execution_count": null,
   "metadata": {},
   "outputs": [],
   "source": [
    "output = widgets.Output()\n",
    "\n",
    "# Date Picker\n",
    "dp = widgets.DatePicker(value=datetime.date(2016,1,1))\n",
    "\n",
    "# Plot function\n",
    "def temp_plot(date_selected):\n",
    "    output.clear_output()\n",
    "    \n",
    "    # Data\n",
    "    subset = df[df['date'] > pd.to_datetime(date_selected, format='%Y-%m-%d %H:%M')]\n",
    "    x = subset['demand']\n",
    "    y = subset['temp']\n",
    "    \n",
    "    layout = go.Layout(\n",
    "        title='Demand Based on Temperature',\n",
    "        xaxis=dict(title='Electricity Demand (MW)'),\n",
    "        yaxis=dict(title='Temperature (Celsius)')\n",
    "    )\n",
    "    \n",
    "    fig = go.Figure(layout=layout)\n",
    "    \n",
    "    # Add scatter trace\n",
    "    fig.add_trace(\n",
    "        go.Scatter(mode='markers', \n",
    "                   x=x, \n",
    "                   y=y, \n",
    "                   marker=dict(color='darkturquoise', size=6, opacity=.4, line=dict(color='burlywood', width=1)),\n",
    "                   showlegend=False)\n",
    "    )\n",
    "    \n",
    "    with output:\n",
    "        display(fig.show())\n",
    "        \n",
    "    \n",
    "\n",
    "# Event Handler\n",
    "def date_eventhandler(value):\n",
    "    temp_plot(value.new)\n",
    "    \n",
    "\n",
    "# Binding event handler with date picker\n",
    "dp.observe(date_eventhandler, names='value')\n",
    "\n",
    "display(dp)"
   ]
  },
  {
   "cell_type": "code",
   "execution_count": null,
   "metadata": {},
   "outputs": [],
   "source": [
    "display(output)"
   ]
  }
 ],
 "metadata": {
  "kernelspec": {
   "display_name": "Python 3.9.15 ('rotations')",
   "language": "python",
   "name": "python3"
  },
  "language_info": {
   "codemirror_mode": {
    "name": "ipython",
    "version": 3
   },
   "file_extension": ".py",
   "mimetype": "text/x-python",
   "name": "python",
   "nbconvert_exporter": "python",
   "pygments_lexer": "ipython3",
   "version": "3.9.15"
  },
  "orig_nbformat": 4,
  "vscode": {
   "interpreter": {
    "hash": "1abefd4da3d4965b4ff5592e823fe36ec87a750830e1f53b2fbd53964046afc7"
   }
  }
 },
 "nbformat": 4,
 "nbformat_minor": 2
}
